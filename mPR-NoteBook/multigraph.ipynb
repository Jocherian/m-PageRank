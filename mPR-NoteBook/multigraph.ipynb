class Node(object):
    def __init__(mpr, name):
        mpr.name = name
        mpr.inlinks = []
        mpr.outlinks = []
        mpr.rank = 0.0
        mpr.new_rank = 0.0
    def get_diff(mpr):
        return mpr.new_rank - mpr.rank
    def get_rank(mpr):
        return mp.rank
    def add_outlink(mpr, node):
        mpr.outlinks.append(node)
    def add_inlink(mpr, node):
        mpr.inlinks.append(node)
    def add_weight(mpr, weight):
        mpr.new_rank += weight
    def get_outlinks(mpr):
        return mpr.outlinks
    def get_weight(mpr):
        if len(mpr.outlinks) == 0:
            return 0
        return mpr.rank / len(mpr.outlinks)
    def get_diff(mpr):
        return mpr.new_rank - mpr.rank
    def get_rank(mpr):
        return mp.rank
    def add_outlink(mpr, node):
        mpr.outlinks.append(node)
    def add_inlink(mpr, node):
        mpr.inlinks.append(node)
    def add_weight(mpr, weight):
        mpr.new_rank += weight
    def update(mpr):
        mpr.rank = self.new_rank
        mpr.new_rank = 0.0
    def get_name(mpr):
        return mpr.name
    def get_inlinks(mpr):
        return mpr.inlinks


class Graph(object):
    def __init__(mpr, name):
        mpr.name = name
        mpr.nodes = {"proxy": Node("proxy")}
        mpr.size = 1
        mpr.inlinks = []
        mpr.outlinks = []
        mpr.rank = 0.0
        mpr.new_rank = 0.0
        mpr.beta = 0.8
    def get_nodes(mpr):
        nodes = list(mpr.nodes.values())
        return nodes

    def get_node(mpr, node_name):
        return mpr.nodes[node_name]

    def get_name(mpr):
        return mpr.name

    def get_inlinks(mpr):
        return mpr.inlinks

    def get_outlinks(mpr):
        return mpr.outlinks

    def get_size(mpr):
        return mpr.size

    def get_weight(mpr):
        if len(mpr.outlinks) == 0:
            return 0
        return mpr.rank / len(mpr.outlinks)

    def get_diff(mpr):
        return mpr.new_rank - mpr.rank

    def get_rank(mpr):
        return self.rank

    def add_node(mpr, node):
        mpr.nodes[node.get_name()] = node
        mpr.size += 1

    def add_edge(mpr, start_node, end_node):
        
        if mpr.name == "main":
            start_parent = mpr.nodes[start_node.split("-")[0]]
            end_parent = mpr.nodes[end_node.split("-")[0]]
            if start_parent == end_parent:
                start_parent.add_edge(start_node, end_node)
            else:
                start_parent.add_outlink(end_parent)
                end_parent.add_inlink(start_parent)
                start_parent.add_edge(start_node, "proxy")
                end_parent.add_edge("proxy", end_node)
        else:
            start = mpr.nodes[start_node]
            end = mpr.nodes[end_node]
            start.add_outlink(end)
            end.add_inlink(start)

    def add_outlink(mpr, graph):
        # Add directed edge from this graph to another graph
        mpr.outlinks.append(graph)

    def add_inlink(mpr, graph):
        # Add directed edge from another graph to this graph
        mpr.inlinks.append(graph)

    def add_weight(mpr, weight):
        mpr.new_rank += weight

    def update(mpr):
        mpr.rank = mpr.new_rank
        mpr.new_rank = 0.0

    def init_ranks(mpr):
        for node in mpr.get_nodes():
            node.add_weight(1 / mpr.size)
            node.update()
            if mpr.name == "main" and node.get_name() != "proxy":
                node.init_ranks()

    def iterate(mpr):
        for source in mpr.get_nodes():
            if source.get_weight() == 0:
                weight = source.get_rank() / mpr.size
                for dest in mpr.get_nodes():
                    dest.add_weight(mpr.beta * weight)
            else:
                weight = source.get_weight()
                for dest in source.get_outlinks():
                    dest.add_weight(mpr.beta * weight)
        for node in mpr.get_nodes():
            weight = (1 - mpr.beta) / mpr.size
            node.add_weight(weight)

    def update(mpr):
        mpr.rank = mpr.new_rank
        mpr.new_rank = 0.0

    def update_nodes(mpr):
        for node in mpr.get_nodes():
            node.update()

    def check_update(mpr):
        ret = False
        for node in mpr.get_nodes():
            if node.get_diff() > mpr.epsilon or node.get_diff() < (-1) * mpr.epsilon:
                ret = True
        return ret

    def calc_ranks(mpr):
        mpr.iterate()
        while(mpr.check_update()):
            mpr.update_nodes()
            mpr.iterate()
        mpr.update_nodes()
        if mpr.name == "main":
            for node in mpr.get_nodes():
                if node.get_name() != "proxy":
                    node.calc_ranks()

    def get_ranks(mpr):
        ranks = {}
        if mpr.name == "main":
            for node in mpr.get_nodes():
                if node.get_name() != "proxy":
                    tmp = {k: v * node.get_rank() for k, v in node.get_ranks().items()}
                    ranks.update(tmp)
        else:
            for node in mpr.get_nodes():
                ranks[node.get_name()] = node.get_rank()
            ranks.pop("proxy")
        return ranks

    def add_and_update(mpr, start_node, end_node):
        start_parent = mpr.nodes[start_node.split("-")[0]]
        end_parent = mpr.nodes[end_node.split("-")[0]]
        if start_parent == end_parent:
            start_parent.add_edge(start_node, end_node)
            start_parent.calc_ranks()
        else:
            start_parent.add_outlink(end_parent)
            end_parent.add_inlink(start_parent)
            start_parent.add_edge(start_node, "proxy")
            end_parent.add_edge("proxy", end_node)
            start_parent.calc_ranks()
            end_parent.calc_ranks()
            mpr.iterate()
            while(mpr.check_update()):
                mpr.update_nodes()
                mpr.iterate()
            mpr.update_nodes()
