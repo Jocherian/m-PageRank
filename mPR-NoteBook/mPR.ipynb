from graph import Node, Graph
from time import time
from random import randint, random
from math import sqrt
g = Graph("0")

with open("input.txt", "r") as f:
	line = f.readline()
	nDomains = int(line)

	pages = []
	for i in range(nDomains):
		line = f.readline()
		pages.append(int(line))
		for j in range(pages[i]):
			g.add_node(Node(str(i) + "-" + str(j)))

	edges = []
	line = f.readline()
	while line:
		edge = line.rsplit('\n')[0].split(' ')
		edges.append(edge)
		line = f.readline()
	newEdges = []
	for edge in set(map(tuple, edges)):
		newEdges.append(edge)
	for edge in newEdges:
		g.add_edge(str(edge[0]) + "-" + str(edge[1]), str(edge[2]) + "-" + str(edge[3]))

g.init_ranks()
g.calc_ranks()
g2 = Graph("main")

with open("input.txt", "r") as f:
	line = f.readline()
	nDomains = int(line)

	for i in range(nDomains):
		tmp = Graph(str(i))
		g2.add_node(tmp)
		line = f.readline()
		for j in range(pages[i]):
			tmp.add_node(Node(str(i) + "-" + str(j)))

	edges = []
	line = f.readline()
	while line:
		edge = line.rsplit('\n')[0].split(' ')
		edges.append(edge)
		line = f.readline()
	newEdges = []
	for edge in set(map(tuple, edges)):
		newEdges.append(edge)
	for edge in newEdges:
		g2.add_edge(str(edge[0]) + "-" + str(edge[1]), str(edge[2]) + "-" + str(edge[3]))

g2.init_ranks()
g2.calc_ranks()
ranks1 = g.get_ranks()
ranks2 = g2.get_ranks()
order1 = sorted(ranks1, key=ranks1.get)
order2 = sorted(ranks2, key=ranks2.get)
nodes = []
for i in range(nDomains):
	for j in range(pages[i]):
		nodes.append(str(i) + "-" + str(j))
numerator = 0
denominator = len(nodes) * (len(nodes) - 1)
for i in nodes:
	print(i)
	for j in nodes:
		if i == j:
			continue
		d1 = order1.index(i) - order1.index(j)
		d2 = order2.index(i) - order2.index(j)
		if d1 * d2 < 0:
			numerator += 1
print(str(numerator / denominator))
