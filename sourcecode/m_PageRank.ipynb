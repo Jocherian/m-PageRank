{
  "nbformat": 4,
  "nbformat_minor": 0,
  "metadata": {
    "colab": {
      "name": "m-PageRank.ipynb",
      "provenance": []
    },
    "kernelspec": {
      "name": "python3",
      "display_name": "Python 3"
    }
  },
  "cells": [
    {
      "cell_type": "code",
      "metadata": {
        "id": "At9B0z6EbSOa",
        "colab_type": "code",
        "colab": {}
      },
      "source": [
        "import pandas as pd\n",
        "import numpy as np\n",
        "import networkx as nx\n",
        "import operator as op\n",
        "import matplotlib.pyplot as plt\n",
        "import numpy.linalg\n",
        "import cmath\n",
        "import scipy.optimize as optimize\n",
        "import scipy as sp"
      ],
      "execution_count": null,
      "outputs": []
    },
    {
      "cell_type": "code",
      "metadata": {
        "id": "Kxgd7gIyb7jO",
        "colab_type": "code",
        "colab": {}
      },
      "source": [
        "dataset=pd.read_csv(\"filename.csv\", sep=\" \", header=None)\n",
        "#data.columns= [(\"slayer_id\",\"source_id\"), (\"target_id\", \"tlayer_id\")]"
      ],
      "execution_count": null,
      "outputs": []
    },
    {
      "cell_type": "code",
      "metadata": {
        "id": "rXUVFAtnDlMM",
        "colab_type": "code",
        "colab": {
          "base_uri": "https://localhost:8080/",
          "height": 359
        },
        "outputId": "83ba099d-1ffb-48e0-d8c6-357ad4035e03"
      },
      "source": [
        "temp_Graph = nx.from_numpy_matrix(temp)\n",
        "step_mat = np.zeros((mat_size,mat_size))\n",
        "step_mat\n",
        "A = nx.adjacency_matrix(data)\n",
        "def graph_creator(dataset, n, N):\n",
        "    nrows = len(dataset)\n",
        "    end = round(data_rows/n)\n",
        "    start=0\n",
        "    stop=end\n",
        "    for pointer in range(0,nrows,end):\n",
        "        vertices_graph(dataset.iloc[start:stop],N)\n",
        "        edges_graph(dataset.iloc[start:stop],N)    \n",
        "        start = start + end\n",
        "        stop = start + step\n",
        "        #print if need to show\n",
        "#print(nx.info(a))\n",
        "mat_size = len(dataset)\n",
        "#print(dataset)\n",
        "def volume_of_grapsh_vertices(dataset,N):\n",
        "    l = layer_create(dataset,N)\n",
        "    nodes_list=[]\n",
        "    for t in l:\n",
        "        G=graph(dataset, l[0], [1])\n",
        "        nodes_list.append(len(G.graph.nodes()))\n",
        "    return(nodes_list)\n",
        "    def vertices_graph(dataset,N):\n",
        "    #T=[]\n",
        "    mat_size = len(A)\n",
        "    print(\"Graph of Size\", mat_size,\":\")\n",
        "    print(A)\n",
        "    \n",
        "    time_intervals = create_intervals(dataset,N)\n",
        "    for time_interval in time_intervals:\n",
        "        T.append(time_interval[0])\n",
        "    k = T  \n",
        "    y = volume_of_grapsh_vertices(dataset,N)\n",
        "    N = len(y)\n",
        "    k = range(N)"
      ],
      "execution_count": null,
      "outputs": [
        {
          "output_type": "stream",
          "text": [
            "Graph of Size 18 :\n",
            "[[0 1 1 1 0 0 0 0 0 0 1 1 1 0 0 0 0 0]\n",
            " [1 0 1 0 0 0 0 1 1 1 0 0 0 0 0 0 0 0]\n",
            " [1 1 0 1 1 1 0 0 0 0 0 0 1 0 0 0 0 0]\n",
            " [1 0 1 0 1 0 1 1 1 0 0 0 0 0 1 0 0 0]\n",
            " [0 0 0 1 0 1 1 1 0 0 0 0 0 0 1 1 1 0]\n",
            " [0 0 0 0 1 1 1 0 0 0 0 0 1 1 0 1 1 0]\n",
            " [0 0 0 1 1 1 0 0 0 0 0 0 0 1 1 0 1 1]\n",
            " [0 0 0 0 1 1 1 0 0 0 0 0 0 1 1 1 0 0]\n",
            " [0 0 0 0 0 0 0 1 1 1 0 0 0 0 0 1 0 0]\n",
            " [0 1 1 1 0 1 1 1 0 0 0 0 0 0 0 0 0 0]\n",
            " [1 0 1 0 1 1 1 0 0 0 0 0 0 0 0 0 0 0]\n",
            " [1 1 0 1 0 1 1 1 0 0 0 0 0 0 0 0 0 0]\n",
            " [1 0 1 0 0 1 1 1 0 0 0 0 0 1 1 0 0 0]\n",
            " [0 0 0 0 1 1 1 0 0 0 0 0 1 0 1 1 1 0]\n",
            " [0 0 0 1 1 0 1 0 1 1 1 0 0 0 0 0 1 0]\n",
            " [0 0 0 0 0 1 1 1 0 0 0 0 0 1 1 0 1 1]\n",
            " [0 0 0 0 1 0 1 1 1 0 0 0 0 0 1 1 0 0]\n",
            " [0 0 0 0 0 1 1 1 0 0 0 0 0 0 0 1 0 0]]\n"
          ],
          "name": "stdout"
        }
      ]
    },
    {
      "cell_type": "code",
      "metadata": {
        "id": "NB21Xf3YcS8D",
        "colab_type": "code",
        "colab": {}
      },
      "source": [
        "#slice the dataset or #reshaping \n",
        "#dataset=data.iloc[0:500]"
      ],
      "execution_count": null,
      "outputs": []
    },
    {
      "cell_type": "code",
      "metadata": {
        "id": "h487-rEZwstf",
        "colab_type": "code",
        "colab": {
          "base_uri": "https://localhost:8080/",
          "height": 739
        },
        "outputId": "ee63f503-b660-4b70-bff1-dbc077bb66c3"
      },
      "source": [
        " for i in range(nodes_list):\n",
        "      xl = x\n",
        "      #starts with last node\n",
        "      x = xl.copy() \n",
        "      for n in x:\n",
        "          for nbr in G_symmetric[n]:\n",
        "            w = G_symmetric[n][nbr].get('matsize', 1) \n",
        "            largest = eigenvector.flatten().real\n",
        "            x[nbr] += xlast[n] * w\n",
        "\n",
        "      norm = sp.sign(largest.sum()) * sp.linalg.norm(largest) or 1\n",
        "      x = {k: v / norm for k, v in x.items()}\n",
        "      pr=largest/norm\n",
        "      #print(dict(zip(G, largest / norm)))\n",
        "      # converging \n",
        "      if sum(abs(x[n] - xlast[n]) for n in x) < nnodes * tol:\n",
        "        print(x) \n",
        "# direct function nx.pagerank()\n",
        "def m_pagerank_centrality(n, ia, ja, max_p, l_i, l_j):\n",
        "    mpr = np.zeros(k, dtype=np.float64)\n",
        "    for i in range(k): \n",
        "        i = np.empty(k)\n",
        "        iptr=0  \n",
        "        lptr=1 \n",
        "        j = np.empty((k,max_p))\n",
        "        jptr= np.zeros(k)  \n",
        "       for k in x: \n",
        "        d = -np.ones(k,dtype=np.int32); d[s] = 0\n",
        "        m_i= sp.sign(dataset,iptr,jptr)(lptr,l_max)edges_graph(dataset.iloc[start:stop],N)  \n",
        "        Q = np.empty(n,dtype=np.uint32)         \n",
        "            for w in ja[ia[v]:ia[v + 1]]: # loop on neighbour of v  \n",
        "        for w in S[S_ptr::-1]:\n",
        "            for v in P[w,0:P_ptr[w]]:\n",
        "                delta[v] += (sigma[v]/sigma[w]) * (1 + delta[w])\n",
        "            mpr=x+m_i+delta[v]\n",
        "    return mpr\n",
        "    # Calculate for all Nodes\n",
        "degreeCentralityValues = [m_pagerank_centrality(a) for a in range(mat_size)]\n",
        "print(\"Centrality Values: \\n\", mpr)\n",
        "       # Check for convergence \n"
      ],
      "execution_count": null,
      "outputs": [
        {
          "output_type": "stream",
          "text": [
            "Graph of Size 18 :\n",
            "[[0 1 1 1 0 0 0 0 0 1 1 1 1 0 0 1 1 0 1 0 1 0 1 0 0 1 1 0 1 1 0 0 0 0 0 0\n",
            "  0 0 0 0]\n",
            " [1 0 1 0 0 0 1 0 1 1 1 0 0 1 1 0 1 0 1 0 1 0 0 1 1 0 1 1 0 0 0 0 0 0 0 0\n",
            "  0 0 0 0]\n",
            " [1 0 1 0 0 1 1 1 1 0 0 1 1 0 1 0 1 0 1 0 0 1 1 0 0 0 0 0 1 1 0 1 0 0 1 1\n",
            "  1 0 1 1]\n",
            " [1 1 0 1 0 0 1 1 1 1 0 0 1 1 0 1 0 1 0 1 0 0 1 1 0 1 1 0 0 0 0 0 0 0 0 0\n",
            "  0 0 0 1]\n",
            " [1 0 1 0 1 1 0 0 0 0 1 1 1 1 0 0 1 1 0 1 0 1 0 1 0 0 1 1 0 1 1 0 0 1 1 1\n",
            "  1 0 0 1]\n",
            " [0 0 0 1 0 1 0 1 0 0 1 1 1 1 0 0 1 1 0 1 0 1 0 1 0 0 1 1 0 1 0 1 0 0 1 1\n",
            "  1 1 1 0]\n",
            " [0 1 0 1 0 0 1 1 1 1 0 0 1 1 0 1 0 1 0 1 0 0 1 1 0 1 0 1 0 0 1 1 1 1 0 0\n",
            "  1 1 1 0]\n",
            " [1 0 1 0 0 1 1 1 1 0 0 1 1 0 1 0 1 0 1 0 0 1 1 0 0 0 0 0 1 1 0 1 0 0 1 1\n",
            "  1 0 1 1]\n",
            " [0 1 0 1 0 0 1 1 1 1 0 0 1 1 0 1 0 1 0 1 0 0 1 1 0 1 1 0 1 0 0 1 1 0 0 1\n",
            "  1 1 0 0]\n",
            " [0 1 0 1 0 0 1 1 1 1 0 0 1 1 0 1 0 1 0 1 0 0 1 1 0 1 0 1 0 0 1 1 1 1 0 0\n",
            "  1 1 1 0]\n",
            " [1 0 1 0 0 1 1 1 1 0 0 1 1 0 1 0 1 0 1 0 0 1 1 0 0 0 0 0 1 1 0 1 0 0 1 1\n",
            "  1 0 1 1]\n",
            " [1 1 0 1 0 0 1 1 1 1 0 0 1 1 0 1 0 1 0 1 0 0 1 1 0 1 1 0 0 0 0 0 0 0 0 0\n",
            "  0 0 0 1]\n",
            " [1 1 0 1 0 0 1 1 1 1 0 0 1 1 0 1 0 1 0 1 0 0 1 1 0 1 1 0 0 0 0 0 0 0 0 0\n",
            "  0 0 0 1]\n",
            " [1 0 1 0 1 1 0 0 0 0 1 1 1 1 0 0 1 1 0 1 0 1 0 1 0 0 1 1 0 1 1 0 0 1 1 1\n",
            "  1 0 0 1]\n",
            " [1 0 1 0 0 1 1 1 1 0 0 1 1 0 1 0 1 0 1 0 0 1 1 0 0 0 0 0 1 1 0 1 0 0 1 1\n",
            "  1 0 1 1]\n",
            " [1 1 0 1 0 0 1 1 1 1 0 0 1 1 0 1 0 1 0 1 0 0 1 1 0 1 1 0 0 0 0 0 0 0 0 0\n",
            "  0 0 0 1]\n",
            " [1 0 1 0 1 1 0 0 0 0 1 1 1 1 0 0 1 1 0 1 0 1 0 1 0 0 1 1 0 1 1 0 0 1 1 1\n",
            "  1 0 0 1]\n",
            " [0 0 0 0 1 0 1 0 0 1 1 1 1 1 0 1 0 0 1 1 0 0 1 1 0 1 0 1 0 1 0 0 1 1 0 0\n",
            "  0 1 0 0]]\n",
            "Centrality Values: \n",
            " [0.5294117647058824, 0.5294117647058824, 0.5882352941176471, 0.6470588235294118, 0.5882352941176471, 0.5294117647058824, 0.5882352941176471, 0.5882352941176471, 0.5882352941176471, 0.5882352941176471, 0.5882352941176471, 0.6470588235294118, 0.6470588235294118, 0.5882352941176471, 0.5882352941176471, 0.6470588235294118, 0.5882352941176471, 0.47058823529411764]\n"
          ],
          "name": "stdout"
        }
      ]
    }
  ]
}